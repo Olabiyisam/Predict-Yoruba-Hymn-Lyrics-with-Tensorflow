{
  "nbformat": 4,
  "nbformat_minor": 0,
  "metadata": {
    "colab": {
      "name": "Yoruba_hymn_generator_using_TF.ipynb",
      "provenance": [],
      "authorship_tag": "ABX9TyOxJ4U3NZL7LA773Qd7IyuL",
      "include_colab_link": true
    },
    "kernelspec": {
      "name": "python3",
      "display_name": "Python 3"
    },
    "accelerator": "GPU"
  },
  "cells": [
    {
      "cell_type": "markdown",
      "metadata": {
        "id": "view-in-github",
        "colab_type": "text"
      },
      "source": [
        "<a href=\"https://colab.research.google.com/github/WuraolaOyewusi/Predict-Yoruba-Hymn-Lyrics-with-Tensorflow/blob/master/Yoruba_hymn_generator_using_TF.ipynb\" target=\"_parent\"><img src=\"https://colab.research.google.com/assets/colab-badge.svg\" alt=\"Open In Colab\"/></a>"
      ]
    },
    {
      "cell_type": "markdown",
      "metadata": {
        "id": "wQ-4FwfmDDik",
        "colab_type": "text"
      },
      "source": [
        "##Download DataSet\n",
        "###Dataset contains 10 popular hymns written in yoruba language with their proper tone marks"
      ]
    },
    {
      "cell_type": "code",
      "metadata": {
        "id": "z3qe0y9UBl-Y",
        "colab_type": "code",
        "outputId": "5f7541a9-9d52-4db8-d331-d32e448ff63e",
        "colab": {
          "base_uri": "https://localhost:8080/",
          "height": 196
        }
      },
      "source": [
        "!wget https://raw.githubusercontent.com/WuraolaOyewusi/Predict-Yoruba-Hymn-Lyrics-with-Tensorflow/master/Ten_Yoruba_Hymns.txt"
      ],
      "execution_count": 0,
      "outputs": [
        {
          "output_type": "stream",
          "text": [
            "--2020-03-10 13:45:09--  https://raw.githubusercontent.com/WuraolaOyewusi/Predict-Yoruba-Hymn-Lyrics-with-Tensorflow/master/Ten_Yoruba_Hymns.txt\n",
            "Resolving raw.githubusercontent.com (raw.githubusercontent.com)... 151.101.0.133, 151.101.64.133, 151.101.128.133, ...\n",
            "Connecting to raw.githubusercontent.com (raw.githubusercontent.com)|151.101.0.133|:443... connected.\n",
            "HTTP request sent, awaiting response... 200 OK\n",
            "Length: 7994 (7.8K) [text/plain]\n",
            "Saving to: ‘Ten_Yoruba_Hymns.txt’\n",
            "\n",
            "\rTen_Yoruba_Hymns.tx   0%[                    ]       0  --.-KB/s               \rTen_Yoruba_Hymns.tx 100%[===================>]   7.81K  --.-KB/s    in 0s      \n",
            "\n",
            "2020-03-10 13:45:10 (127 MB/s) - ‘Ten_Yoruba_Hymns.txt’ saved [7994/7994]\n",
            "\n"
          ],
          "name": "stdout"
        }
      ]
    },
    {
      "cell_type": "markdown",
      "metadata": {
        "id": "U9R3y2DEDs8w",
        "colab_type": "text"
      },
      "source": [
        "## Load the text file"
      ]
    },
    {
      "cell_type": "code",
      "metadata": {
        "id": "XzzS15owCGG1",
        "colab_type": "code",
        "colab": {}
      },
      "source": [
        "with open('Ten_Yoruba_Hymns.txt') as f:\n",
        "    data = f.readlines()                             #Data loads as list\n",
        "data = ' '.join(data).lower().split('\\n')            #Join Data into string,lower words and split along new lines"
      ],
      "execution_count": 0,
      "outputs": []
    },
    {
      "cell_type": "code",
      "metadata": {
        "id": "0UZNJDfxCl4k",
        "colab_type": "code",
        "outputId": "17bfd42b-d025-4136-9234-ca0cf100dc66",
        "colab": {
          "base_uri": "https://localhost:8080/",
          "height": 131
        }
      },
      "source": [
        "print(len(data))                                     #Check Length of Data\n",
        "data[0:6]                                            #View data sample"
      ],
      "execution_count": 0,
      "outputs": [
        {
          "output_type": "stream",
          "text": [
            "261\n"
          ],
          "name": "stdout"
        },
        {
          "output_type": "execute_result",
          "data": {
            "text/plain": [
              "['ìsun kan wa tó kún fẹ́jẹ̀',\n",
              " ' mo ti ní jésù lọ́rẹ̀',\n",
              " ' enìkan nbẹ tó fẹ́ràn wa',\n",
              " ' gba ayé mi, olúwa',\n",
              " ' olùgbàlà gbóhùn mi',\n",
              " ' árẹ̀ mú ọ, ọkàn re pòrurù']"
            ]
          },
          "metadata": {
            "tags": []
          },
          "execution_count": 9
        }
      ]
    },
    {
      "cell_type": "markdown",
      "metadata": {
        "id": "V3syXf3zDnwG",
        "colab_type": "text"
      },
      "source": [
        "##Import Libraries"
      ]
    },
    {
      "cell_type": "code",
      "metadata": {
        "id": "V9frLhhLy2fX",
        "colab_type": "code",
        "colab": {}
      },
      "source": [
        "import tensorflow as tf\n",
        "from tensorflow.keras.preprocessing.text import Tokenizer\n",
        "from tensorflow.keras.preprocessing.sequence import pad_sequences\n",
        "import numpy as np"
      ],
      "execution_count": 0,
      "outputs": []
    },
    {
      "cell_type": "markdown",
      "metadata": {
        "id": "y3IiFjEXKBir",
        "colab_type": "text"
      },
      "source": [
        "## Data Preprocessing(Tokenization, Case folding, Sequencing and Sequence Padding"
      ]
    },
    {
      "cell_type": "code",
      "metadata": {
        "id": "MBht-g5LzxD-",
        "colab_type": "code",
        "outputId": "f7fbc296-1bce-4f0d-d66c-489c811d7399",
        "colab": {
          "base_uri": "https://localhost:8080/",
          "height": 33
        }
      },
      "source": [
        "tokenizer = Tokenizer()\n",
        "corpus = data\n",
        "tokenizer.fit_on_texts(corpus)\n",
        "total_words = len(tokenizer.word_index) + 1\n",
        "print(total_words)"
      ],
      "execution_count": 0,
      "outputs": [
        {
          "output_type": "stream",
          "text": [
            "459\n"
          ],
          "name": "stdout"
        }
      ]
    },
    {
      "cell_type": "code",
      "metadata": {
        "id": "UJKyZI9B1ECc",
        "colab_type": "code",
        "colab": {}
      },
      "source": [
        "input_sequences = []\n",
        "for line in corpus:\n",
        "    token_list = tokenizer.texts_to_sequences([line])[0]\n",
        "    for i in range(1,len(token_list)):\n",
        "        n_gram_sequence = token_list[:i+1]\n",
        "        input_sequences.append(n_gram_sequence)\n"
      ],
      "execution_count": 0,
      "outputs": []
    },
    {
      "cell_type": "markdown",
      "metadata": {
        "id": "zXffBPqdMt6T",
        "colab_type": "text"
      },
      "source": [
        "##View after 'pre' padding the sequences with '0' to bring them to equal array lenght"
      ]
    },
    {
      "cell_type": "code",
      "metadata": {
        "id": "2j0EAGNz1FQ0",
        "colab_type": "code",
        "outputId": "c791454d-8fb5-4193-ded3-78663fb2560d",
        "colab": {
          "base_uri": "https://localhost:8080/",
          "height": 131
        }
      },
      "source": [
        "max_sequence_len = max([len(x) for x in input_sequences])\n",
        "input_sequences = np.array(pad_sequences(input_sequences, maxlen=max_sequence_len,padding='pre'))\n",
        "input_sequences"
      ],
      "execution_count": 0,
      "outputs": [
        {
          "output_type": "execute_result",
          "data": {
            "text/plain": [
              "array([[  0,   0,   0, ...,   0, 109, 110],\n",
              "       [  0,   0,   0, ..., 109, 110,   3],\n",
              "       [  0,   0,   0, ..., 110,   3,  36],\n",
              "       ...,\n",
              "       [  0,   0,   0, ..., 458,  12,  47],\n",
              "       [  0,   0,   0, ...,  12,  47, 170],\n",
              "       [  0,   0,   0, ...,  47, 170, 107]], dtype=int32)"
            ]
          },
          "metadata": {
            "tags": []
          },
          "execution_count": 13
        }
      ]
    },
    {
      "cell_type": "markdown",
      "metadata": {
        "id": "nvKjRYawNII0",
        "colab_type": "text"
      },
      "source": [
        "##Word prediction is a treated like a classification task where the next word in a sequence is treated as a label of the previous words. So each word is a label class."
      ]
    },
    {
      "cell_type": "code",
      "metadata": {
        "id": "Y8nvBw0s4Agv",
        "colab_type": "code",
        "colab": {}
      },
      "source": [
        "train_data = input_sequences[:,:-1]\n",
        "labels = input_sequences[:,-1]\n",
        "labels = tf.keras.utils.to_categorical(labels, num_classes = total_words)"
      ],
      "execution_count": 0,
      "outputs": []
    },
    {
      "cell_type": "markdown",
      "metadata": {
        "id": "HR7vuyq0OC5T",
        "colab_type": "text"
      },
      "source": [
        "## Model architecture and hyperparameters are from one of the lessons in the Natural Language Processing with Tensorflow Course on Coursera. The architecture works well for my use case"
      ]
    },
    {
      "cell_type": "code",
      "metadata": {
        "colab_type": "code",
        "id": "CxmHePgIRrgU",
        "outputId": "9f203444-c587-4712-fad8-0a19ca6de987",
        "colab": {
          "base_uri": "https://localhost:8080/",
          "height": 508
        }
      },
      "source": [
        "model = tf.keras.Sequential()\n",
        "model.add(tf.keras.layers.Embedding(total_words, 64, input_length=max_sequence_len - 1))\n",
        "model.add(tf.keras.layers.Bidirectional((tf.keras.layers.LSTM(200))))\n",
        "model.add(tf.keras.layers.Dense(total_words, activation='softmax'))\n",
        "model.summary()"
      ],
      "execution_count": 0,
      "outputs": [
        {
          "output_type": "stream",
          "text": [
            "WARNING:tensorflow:From /usr/local/lib/python3.6/dist-packages/tensorflow_core/python/keras/initializers.py:119: calling RandomUniform.__init__ (from tensorflow.python.ops.init_ops) with dtype is deprecated and will be removed in a future version.\n",
            "Instructions for updating:\n",
            "Call initializer instance with the dtype argument instead of passing it to the constructor\n",
            "WARNING:tensorflow:From /usr/local/lib/python3.6/dist-packages/tensorflow_core/python/ops/resource_variable_ops.py:1630: calling BaseResourceVariable.__init__ (from tensorflow.python.ops.resource_variable_ops) with constraint is deprecated and will be removed in a future version.\n",
            "Instructions for updating:\n",
            "If using Keras pass *_constraint arguments to layers.\n",
            "WARNING:tensorflow:From /usr/local/lib/python3.6/dist-packages/tensorflow_core/python/ops/init_ops.py:97: calling GlorotUniform.__init__ (from tensorflow.python.ops.init_ops) with dtype is deprecated and will be removed in a future version.\n",
            "Instructions for updating:\n",
            "Call initializer instance with the dtype argument instead of passing it to the constructor\n",
            "WARNING:tensorflow:From /usr/local/lib/python3.6/dist-packages/tensorflow_core/python/ops/init_ops.py:97: calling Orthogonal.__init__ (from tensorflow.python.ops.init_ops) with dtype is deprecated and will be removed in a future version.\n",
            "Instructions for updating:\n",
            "Call initializer instance with the dtype argument instead of passing it to the constructor\n",
            "WARNING:tensorflow:From /usr/local/lib/python3.6/dist-packages/tensorflow_core/python/ops/init_ops.py:97: calling Zeros.__init__ (from tensorflow.python.ops.init_ops) with dtype is deprecated and will be removed in a future version.\n",
            "Instructions for updating:\n",
            "Call initializer instance with the dtype argument instead of passing it to the constructor\n",
            "Model: \"sequential\"\n",
            "_________________________________________________________________\n",
            "Layer (type)                 Output Shape              Param #   \n",
            "=================================================================\n",
            "embedding (Embedding)        (None, 7, 64)             29376     \n",
            "_________________________________________________________________\n",
            "bidirectional (Bidirectional (None, 400)               424000    \n",
            "_________________________________________________________________\n",
            "dense (Dense)                (None, 459)               184059    \n",
            "=================================================================\n",
            "Total params: 637,435\n",
            "Trainable params: 637,435\n",
            "Non-trainable params: 0\n",
            "_________________________________________________________________\n"
          ],
          "name": "stdout"
        }
      ]
    },
    {
      "cell_type": "markdown",
      "metadata": {
        "id": "uOtdqmXixGSV",
        "colab_type": "text"
      },
      "source": [
        "##Model Training. By the 46th epoch the accuracy stayed in the same range but the loss value kept reducing till the 100th epoch"
      ]
    },
    {
      "cell_type": "code",
      "metadata": {
        "id": "woS1kU-NRxyf",
        "colab_type": "code",
        "outputId": "214d3a90-cf90-4d7e-ca96-2345b904851a",
        "colab": {
          "base_uri": "https://localhost:8080/",
          "height": 1000
        }
      },
      "source": [
        "adam = tf.keras.optimizers.Adam(lr=0.01)\n",
        "model.compile(loss='categorical_crossentropy', optimizer='adam', metrics=['accuracy'])\n",
        "history = model.fit(train_data,labels,epochs=100,verbose=1)"
      ],
      "execution_count": 0,
      "outputs": [
        {
          "output_type": "stream",
          "text": [
            "WARNING:tensorflow:From /usr/local/lib/python3.6/dist-packages/tensorflow_core/python/ops/math_grad.py:1424: where (from tensorflow.python.ops.array_ops) is deprecated and will be removed in a future version.\n",
            "Instructions for updating:\n",
            "Use tf.where in 2.0, which has the same broadcast rule as np.where\n",
            "Train on 1053 samples\n",
            "Epoch 1/100\n",
            "1053/1053 [==============================] - 4s 3ms/sample - loss: 5.9270 - acc: 0.0256\n",
            "Epoch 2/100\n",
            "1053/1053 [==============================] - 1s 1ms/sample - loss: 5.4058 - acc: 0.0456\n",
            "Epoch 3/100\n",
            "1053/1053 [==============================] - 1s 1ms/sample - loss: 5.2454 - acc: 0.0446\n",
            "Epoch 4/100\n",
            "1053/1053 [==============================] - 1s 1ms/sample - loss: 5.1131 - acc: 0.0408\n",
            "Epoch 5/100\n",
            "1053/1053 [==============================] - 1s 1ms/sample - loss: 4.9674 - acc: 0.0437\n",
            "Epoch 6/100\n",
            "1053/1053 [==============================] - 1s 1ms/sample - loss: 4.8544 - acc: 0.0684\n",
            "Epoch 7/100\n",
            "1053/1053 [==============================] - 1s 1ms/sample - loss: 4.7218 - acc: 0.0598\n",
            "Epoch 8/100\n",
            "1053/1053 [==============================] - 1s 1ms/sample - loss: 4.5500 - acc: 0.0978\n",
            "Epoch 9/100\n",
            "1053/1053 [==============================] - 1s 1ms/sample - loss: 4.3599 - acc: 0.1235\n",
            "Epoch 10/100\n",
            "1053/1053 [==============================] - 1s 1ms/sample - loss: 4.1461 - acc: 0.1415\n",
            "Epoch 11/100\n",
            "1053/1053 [==============================] - 1s 1ms/sample - loss: 3.9029 - acc: 0.1681\n",
            "Epoch 12/100\n",
            "1053/1053 [==============================] - 1s 1ms/sample - loss: 3.6782 - acc: 0.1994\n",
            "Epoch 13/100\n",
            "1053/1053 [==============================] - 1s 1ms/sample - loss: 3.4903 - acc: 0.2137\n",
            "Epoch 14/100\n",
            "1053/1053 [==============================] - 1s 1ms/sample - loss: 3.2897 - acc: 0.2384\n",
            "Epoch 15/100\n",
            "1053/1053 [==============================] - 1s 1ms/sample - loss: 3.0420 - acc: 0.3001\n",
            "Epoch 16/100\n",
            "1053/1053 [==============================] - 1s 1ms/sample - loss: 2.8523 - acc: 0.3381\n",
            "Epoch 17/100\n",
            "1053/1053 [==============================] - 1s 1ms/sample - loss: 2.6525 - acc: 0.3742\n",
            "Epoch 18/100\n",
            "1053/1053 [==============================] - 1s 1ms/sample - loss: 2.4525 - acc: 0.3970\n",
            "Epoch 19/100\n",
            "1053/1053 [==============================] - 1s 1ms/sample - loss: 2.2685 - acc: 0.4520\n",
            "Epoch 20/100\n",
            "1053/1053 [==============================] - 1s 1ms/sample - loss: 2.1038 - acc: 0.4929\n",
            "Epoch 21/100\n",
            "1053/1053 [==============================] - 1s 1ms/sample - loss: 1.9298 - acc: 0.5166\n",
            "Epoch 22/100\n",
            "1053/1053 [==============================] - 1s 1ms/sample - loss: 1.7979 - acc: 0.5423\n",
            "Epoch 23/100\n",
            "1053/1053 [==============================] - 1s 1ms/sample - loss: 1.6525 - acc: 0.5783\n",
            "Epoch 24/100\n",
            "1053/1053 [==============================] - 1s 1ms/sample - loss: 1.5275 - acc: 0.6201\n",
            "Epoch 25/100\n",
            "1053/1053 [==============================] - 1s 1ms/sample - loss: 1.3731 - acc: 0.6610\n",
            "Epoch 26/100\n",
            "1053/1053 [==============================] - 1s 1ms/sample - loss: 1.2547 - acc: 0.6895\n",
            "Epoch 27/100\n",
            "1053/1053 [==============================] - 1s 1ms/sample - loss: 1.1498 - acc: 0.7274\n",
            "Epoch 28/100\n",
            "1053/1053 [==============================] - 1s 1ms/sample - loss: 1.0631 - acc: 0.7303\n",
            "Epoch 29/100\n",
            "1053/1053 [==============================] - 1s 1ms/sample - loss: 0.9887 - acc: 0.7607\n",
            "Epoch 30/100\n",
            "1053/1053 [==============================] - 1s 1ms/sample - loss: 0.9053 - acc: 0.7721\n",
            "Epoch 31/100\n",
            "1053/1053 [==============================] - 1s 1ms/sample - loss: 0.8506 - acc: 0.7797\n",
            "Epoch 32/100\n",
            "1053/1053 [==============================] - 1s 1ms/sample - loss: 0.7921 - acc: 0.7958\n",
            "Epoch 33/100\n",
            "1053/1053 [==============================] - 1s 1ms/sample - loss: 0.7382 - acc: 0.8120\n",
            "Epoch 34/100\n",
            "1053/1053 [==============================] - 1s 1ms/sample - loss: 0.6897 - acc: 0.8167\n",
            "Epoch 35/100\n",
            "1053/1053 [==============================] - 1s 1ms/sample - loss: 0.6615 - acc: 0.8158\n",
            "Epoch 36/100\n",
            "1053/1053 [==============================] - 1s 1ms/sample - loss: 0.6479 - acc: 0.8196\n",
            "Epoch 37/100\n",
            "1053/1053 [==============================] - 1s 1ms/sample - loss: 0.6197 - acc: 0.8367\n",
            "Epoch 38/100\n",
            "1053/1053 [==============================] - 1s 1ms/sample - loss: 0.5652 - acc: 0.8329\n",
            "Epoch 39/100\n",
            "1053/1053 [==============================] - 1s 1ms/sample - loss: 0.5331 - acc: 0.8557\n",
            "Epoch 40/100\n",
            "1053/1053 [==============================] - 1s 1ms/sample - loss: 0.5104 - acc: 0.8528\n",
            "Epoch 41/100\n",
            "1053/1053 [==============================] - 1s 1ms/sample - loss: 0.5008 - acc: 0.8490\n",
            "Epoch 42/100\n",
            "1053/1053 [==============================] - 1s 1ms/sample - loss: 0.4736 - acc: 0.8632\n",
            "Epoch 43/100\n",
            "1053/1053 [==============================] - 1s 1ms/sample - loss: 0.4586 - acc: 0.8547\n",
            "Epoch 44/100\n",
            "1053/1053 [==============================] - 1s 1ms/sample - loss: 0.4453 - acc: 0.8623\n",
            "Epoch 45/100\n",
            "1053/1053 [==============================] - 1s 1ms/sample - loss: 0.4352 - acc: 0.8594\n",
            "Epoch 46/100\n",
            "1053/1053 [==============================] - 1s 1ms/sample - loss: 0.4119 - acc: 0.8718\n",
            "Epoch 47/100\n",
            "1053/1053 [==============================] - 1s 1ms/sample - loss: 0.4123 - acc: 0.8708\n",
            "Epoch 48/100\n",
            "1053/1053 [==============================] - 1s 1ms/sample - loss: 0.3884 - acc: 0.8784\n",
            "Epoch 49/100\n",
            "1053/1053 [==============================] - 1s 1ms/sample - loss: 0.3828 - acc: 0.8708\n",
            "Epoch 50/100\n",
            "1053/1053 [==============================] - 1s 1ms/sample - loss: 0.3764 - acc: 0.8737\n",
            "Epoch 51/100\n",
            "1053/1053 [==============================] - 1s 1ms/sample - loss: 0.3653 - acc: 0.8708\n",
            "Epoch 52/100\n",
            "1053/1053 [==============================] - 1s 1ms/sample - loss: 0.3590 - acc: 0.8727\n",
            "Epoch 53/100\n",
            "1053/1053 [==============================] - 1s 1ms/sample - loss: 0.3461 - acc: 0.8699\n",
            "Epoch 54/100\n",
            "1053/1053 [==============================] - 1s 1ms/sample - loss: 0.3405 - acc: 0.8756\n",
            "Epoch 55/100\n",
            "1053/1053 [==============================] - 1s 1ms/sample - loss: 0.3432 - acc: 0.8746\n",
            "Epoch 56/100\n",
            "1053/1053 [==============================] - 1s 1ms/sample - loss: 0.3367 - acc: 0.8708\n",
            "Epoch 57/100\n",
            "1053/1053 [==============================] - 1s 1ms/sample - loss: 0.3339 - acc: 0.8746\n",
            "Epoch 58/100\n",
            "1053/1053 [==============================] - 1s 1ms/sample - loss: 0.3277 - acc: 0.8746\n",
            "Epoch 59/100\n",
            "1053/1053 [==============================] - 1s 1ms/sample - loss: 0.3528 - acc: 0.8689\n",
            "Epoch 60/100\n",
            "1053/1053 [==============================] - 1s 1ms/sample - loss: 0.3843 - acc: 0.8642\n",
            "Epoch 61/100\n",
            "1053/1053 [==============================] - 1s 1ms/sample - loss: 0.3596 - acc: 0.8670\n",
            "Epoch 62/100\n",
            "1053/1053 [==============================] - 1s 1ms/sample - loss: 0.3409 - acc: 0.8737\n",
            "Epoch 63/100\n",
            "1053/1053 [==============================] - 1s 1ms/sample - loss: 0.3557 - acc: 0.8689\n",
            "Epoch 64/100\n",
            "1053/1053 [==============================] - 1s 1ms/sample - loss: 0.3255 - acc: 0.8727\n",
            "Epoch 65/100\n",
            "1053/1053 [==============================] - 1s 1ms/sample - loss: 0.3238 - acc: 0.8718\n",
            "Epoch 66/100\n",
            "1053/1053 [==============================] - 1s 1ms/sample - loss: 0.3140 - acc: 0.8689\n",
            "Epoch 67/100\n",
            "1053/1053 [==============================] - 1s 1ms/sample - loss: 0.3084 - acc: 0.8746\n",
            "Epoch 68/100\n",
            "1053/1053 [==============================] - 1s 1ms/sample - loss: 0.3080 - acc: 0.8746\n",
            "Epoch 69/100\n",
            "1053/1053 [==============================] - 1s 1ms/sample - loss: 0.3032 - acc: 0.8699\n",
            "Epoch 70/100\n",
            "1053/1053 [==============================] - 1s 1ms/sample - loss: 0.3022 - acc: 0.8765\n",
            "Epoch 71/100\n",
            "1053/1053 [==============================] - 1s 1ms/sample - loss: 0.3011 - acc: 0.8756\n",
            "Epoch 72/100\n",
            "1053/1053 [==============================] - 1s 1ms/sample - loss: 0.2963 - acc: 0.8746\n",
            "Epoch 73/100\n",
            "1053/1053 [==============================] - 1s 1ms/sample - loss: 0.3000 - acc: 0.8765\n",
            "Epoch 74/100\n",
            "1053/1053 [==============================] - 1s 1ms/sample - loss: 0.2977 - acc: 0.8708\n",
            "Epoch 75/100\n",
            "1053/1053 [==============================] - 1s 1ms/sample - loss: 0.2942 - acc: 0.8718\n",
            "Epoch 76/100\n",
            "1053/1053 [==============================] - 1s 1ms/sample - loss: 0.2932 - acc: 0.8803\n",
            "Epoch 77/100\n",
            "1053/1053 [==============================] - 1s 1ms/sample - loss: 0.2877 - acc: 0.8765\n",
            "Epoch 78/100\n",
            "1053/1053 [==============================] - 1s 1ms/sample - loss: 0.2873 - acc: 0.8860\n",
            "Epoch 79/100\n",
            "1053/1053 [==============================] - 1s 1ms/sample - loss: 0.2926 - acc: 0.8756\n",
            "Epoch 80/100\n",
            "1053/1053 [==============================] - 1s 1ms/sample - loss: 0.2930 - acc: 0.8775\n",
            "Epoch 81/100\n",
            "1053/1053 [==============================] - 1s 1ms/sample - loss: 0.2879 - acc: 0.8765\n",
            "Epoch 82/100\n",
            "1053/1053 [==============================] - 1s 1ms/sample - loss: 0.2884 - acc: 0.8708\n",
            "Epoch 83/100\n",
            "1053/1053 [==============================] - 1s 1ms/sample - loss: 0.2872 - acc: 0.8775\n",
            "Epoch 84/100\n",
            "1053/1053 [==============================] - 1s 1ms/sample - loss: 0.2905 - acc: 0.8708\n",
            "Epoch 85/100\n",
            "1053/1053 [==============================] - 1s 1ms/sample - loss: 0.2923 - acc: 0.8708\n",
            "Epoch 86/100\n",
            "1053/1053 [==============================] - 1s 1ms/sample - loss: 0.2924 - acc: 0.8699\n",
            "Epoch 87/100\n",
            "1053/1053 [==============================] - 1s 1ms/sample - loss: 0.2892 - acc: 0.8737\n",
            "Epoch 88/100\n",
            "1053/1053 [==============================] - 1s 1ms/sample - loss: 0.2981 - acc: 0.8746\n",
            "Epoch 89/100\n",
            "1053/1053 [==============================] - 1s 1ms/sample - loss: 0.2874 - acc: 0.8727\n",
            "Epoch 90/100\n",
            "1053/1053 [==============================] - 1s 1ms/sample - loss: 0.2914 - acc: 0.8699\n",
            "Epoch 91/100\n",
            "1053/1053 [==============================] - 1s 1ms/sample - loss: 0.2862 - acc: 0.8765\n",
            "Epoch 92/100\n",
            "1053/1053 [==============================] - 1s 1ms/sample - loss: 0.3022 - acc: 0.8718\n",
            "Epoch 93/100\n",
            "1053/1053 [==============================] - 1s 1ms/sample - loss: 0.3280 - acc: 0.8699\n",
            "Epoch 94/100\n",
            "1053/1053 [==============================] - 1s 1ms/sample - loss: 0.3545 - acc: 0.8575\n",
            "Epoch 95/100\n",
            "1053/1053 [==============================] - 1s 1ms/sample - loss: 0.4687 - acc: 0.8329\n",
            "Epoch 96/100\n",
            "1053/1053 [==============================] - 1s 1ms/sample - loss: 0.6157 - acc: 0.7920\n",
            "Epoch 97/100\n",
            "1053/1053 [==============================] - 1s 1ms/sample - loss: 0.5711 - acc: 0.8177\n",
            "Epoch 98/100\n",
            "1053/1053 [==============================] - 1s 1ms/sample - loss: 0.4664 - acc: 0.8367\n",
            "Epoch 99/100\n",
            "1053/1053 [==============================] - 1s 1ms/sample - loss: 0.4172 - acc: 0.8519\n",
            "Epoch 100/100\n",
            "1053/1053 [==============================] - 1s 1ms/sample - loss: 0.3422 - acc: 0.8670\n"
          ],
          "name": "stdout"
        }
      ]
    },
    {
      "cell_type": "markdown",
      "metadata": {
        "id": "GDpIKCeg1Aut",
        "colab_type": "text"
      },
      "source": [
        "##Text Prediction. A seed text to start the predicted lyrics is preprocessed exactly as the training data is "
      ]
    },
    {
      "cell_type": "code",
      "metadata": {
        "id": "z-0xaVuLyKYE",
        "colab_type": "code",
        "colab": {}
      },
      "source": [
        "def generate_hymn(seed_text,next_words):\n",
        "    \"\"\" A function that takes a \n",
        "    seed_text: to prompt next word prediction\n",
        "    next_word: The number of next words to predict\n",
        "    and returns the predicted yoruba hymn lyrics\"\"\"\n",
        "    for _ in range(next_words):\n",
        "        token_list = tokenizer.texts_to_sequences([seed_text])[0]\n",
        "        token_list = pad_sequences([token_list], maxlen=max_sequence_len - 1, padding='pre')\n",
        "        predicted = model.predict_classes(token_list, verbose=0)\n",
        "        output_word = \" \"\n",
        "        for word, index in tokenizer.word_index.items():\n",
        "            if index == predicted:\n",
        "                output_word = word\n",
        "                break\n",
        "        seed_text += \" \" + output_word\n",
        "    return seed_text\n"
      ],
      "execution_count": 0,
      "outputs": []
    },
    {
      "cell_type": "markdown",
      "metadata": {
        "id": "Bk_rgNVG8zm-",
        "colab_type": "text"
      },
      "source": [
        "##Generate yoruba hymns lyrics"
      ]
    },
    {
      "cell_type": "code",
      "metadata": {
        "id": "BsXfSHjByoL3",
        "colab_type": "code",
        "outputId": "84351063-4e88-498c-af19-a8e2cea7d4e5",
        "colab": {
          "base_uri": "https://localhost:8080/",
          "height": 33
        }
      },
      "source": [
        "generate_hymn('olúwa olúwa gbà',4)"
      ],
      "execution_count": 0,
      "outputs": [
        {
          "output_type": "execute_result",
          "data": {
            "text/plain": [
              "'olúwa olúwa gbà mí ègbè ègbè tán'"
            ]
          },
          "metadata": {
            "tags": []
          },
          "execution_count": 46
        }
      ]
    },
    {
      "cell_type": "code",
      "metadata": {
        "id": "uFhXGCPr6mms",
        "colab_type": "code",
        "outputId": "82ec1a37-4598-4754-9528-71f140d194f5",
        "colab": {
          "base_uri": "https://localhost:8080/",
          "height": 212
        }
      },
      "source": [
        "seed_text_list = ['olúwa gbà','olùgbàlà' ,'Ọlọ́run' , 'ìṣẹ́gun ni' , 'ìyanu mi', 'gbórí', 'ayọ̀ ńbọ̀','ìfẹ́','ìfẹ́ ọkàn', 'olúwa mi','ọ̀rẹ́','ọ̀rẹ́ òtítọ́']\n",
        "for word in seed_text_list:\n",
        "    print(generate_hymn(word,5))"
      ],
      "execution_count": 0,
      "outputs": [
        {
          "output_type": "stream",
          "text": [
            "olúwa gbà gbà mí ègbè nù kúrọ̀\n",
            "olùgbàlà gbóhùn mi ko ṣì gbọ́ràn\n",
            "Ọlọ́run ọ̀rọ̀ rẹ̀ mo figbàgbọ́ rísun\n",
            "ìṣẹ́gun ni jà re wò re pòrurù\n",
            "ìyanu mi ba ti jẹ ní gbèsè\n",
            "gbórí ọ̀rọ̀ rẹ̀ mo figbàgbọ́ rísun\n",
            "ayọ̀ ńbọ̀ fún mi titi náà ló\n",
            "ìfẹ́ rẹ̀ ju t'ìyekan lọ sógo\n",
            "ìfẹ́ ọkàn kò sì ní tán wa\n",
            "olúwa mi sí ńké pé o ró\n",
            "ọ̀rẹ́ ayé nkọ̀ wá sílẹ̀ ní\n",
            "ọ̀rẹ́ òtítọ́ ayé nkọ̀ wá sílẹ̀ ní\n"
          ],
          "name": "stdout"
        }
      ]
    },
    {
      "cell_type": "markdown",
      "metadata": {
        "id": "pi0FQsRk3dW4",
        "colab_type": "text"
      },
      "source": [
        "##How to save and load the model with tf.keras"
      ]
    },
    {
      "cell_type": "code",
      "metadata": {
        "id": "vi1zTtw2qZ67",
        "colab_type": "code",
        "colab": {}
      },
      "source": [
        "import tensorflow as tf\n",
        "model.save('./yoruba_hymn_lyrics_predictor_model.h5')\n",
        "model = tf.keras.models.load_model('./yoruba_hymn_lyrics_predictor_model.h5')"
      ],
      "execution_count": 0,
      "outputs": []
    }
  ]
}